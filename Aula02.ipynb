{
  "nbformat": 4,
  "nbformat_minor": 0,
  "metadata": {
    "colab": {
      "name": "Aula02.ipynb",
      "provenance": [],
      "authorship_tag": "ABX9TyOK8NPCFiSnhk4zphK4lmQq",
      "include_colab_link": true
    },
    "kernelspec": {
      "name": "python3",
      "display_name": "Python 3"
    },
    "language_info": {
      "name": "python"
    }
  },
  "cells": [
    {
      "cell_type": "markdown",
      "metadata": {
        "id": "view-in-github",
        "colab_type": "text"
      },
      "source": [
        "<a href=\"https://colab.research.google.com/github/viniciusbeckerdesouza/ImersaoDados2021/blob/main/Aula02.ipynb\" target=\"_parent\"><img src=\"https://colab.research.google.com/assets/colab-badge.svg\" alt=\"Open In Colab\"/></a>"
      ]
    },
    {
      "cell_type": "markdown",
      "metadata": {
        "id": "x8GGX7n4OSbV"
      },
      "source": [
        "#Aula 01"
      ]
    },
    {
      "cell_type": "markdown",
      "metadata": {
        "id": "jm3-stGbOWNp"
      },
      "source": [
        "## O que é uma droga?\n",
        "\n",
        "Os termos droga e medicamento são usados de forma intecambiável, embora droga costume ser associado a substância como cocaína e maconha. Para o FDA (a Anvisa dos EUA), uma droga é :\n",
        "\n",
        "\n",
        "*   uma substância que é reconhecida pela farmacopeia oficial\n",
        "*   uma substância que é usada para tratar ou curar uma doença\n",
        "*   uma substância que não seja uma alimento e altera as funções corporais\n",
        "*   uma substância que seja parte de um medicamento, mas que nçao seja uma ferramenta para aplicação do mesmo\n",
        "* produtos biológicos em geral\n",
        "\n",
        "Se quisermos uma definição mais científica, podemos dizer que \"uma droga é um agente que modifica um alvo de droga com o objetivo de alterar o funcionamento deste alvo. Drogas podem reduzir ou acelerar a atividade do alvo.\" (E. D. Zanders, [The Science and Business of Drug Discovery](https://doi.org/10.1007/978-3-030-57814-5))\n",
        "\n",
        "\n",
        "\n"
      ]
    },
    {
      "cell_type": "markdown",
      "metadata": {
        "id": "3iSWq0Z1SSU2"
      },
      "source": [
        "##O pipeline do *drug discovery*\n",
        "\n",
        "Tradicionalmente, a descoberta de novas drogas segue um percurso bem definido.\n",
        "\n",
        "\n",
        "1.   Seleção da doença a ser tratada\n",
        "2.   Identificação do alvo da droga\n",
        "3. Criação de molécula ou agentes biológicos em laboratório\n",
        "4. Triagem confrontando as substância com o alvo em busca de candidatos para futuro denvolvimento\n",
        "5. Testagem dos candidatos em modelos de doença (geralmente, colonias de células)\n",
        "\n"
      ]
    },
    {
      "cell_type": "markdown",
      "metadata": {
        "id": "Q1nydyLeTtvI"
      },
      "source": [
        "##E onde entra a Ciência de Dados?\n",
        "\n",
        "As técnicas de ciência de dados e aprendizado de máquina podem nos ajudar a reaproveitar os dados de testes para encontrar novos usos para drogas já existentes ou para substâncias que não passaram em testes para outras doenças.\n",
        "Com isso, podemos usar o dataset a seguir para entender como algumas drogas potenciais alteram a expressão gênica - os alvos de droga dos experimentos."
      ]
    },
    {
      "cell_type": "code",
      "metadata": {
        "id": "CtrbAV0ROIWU"
      },
      "source": [
        "import pandas as pd\n",
        "\n",
        "url_dados = 'https://github.com/alura-cursos/imersaodados3/blob/main/dados/dados_experimentos.zip?raw=true'\n",
        "\n",
        "dados = pd.read_csv(url_dados, compression = 'zip') #descompactar o arquivo zip\n",
        "dados.head()"
      ],
      "execution_count": null,
      "outputs": []
    },
    {
      "cell_type": "markdown",
      "metadata": {
        "id": "lIxUCspGVOcn"
      },
      "source": [
        "###Desafio 01: Por que a classe tratamento é tão desbalanceada?"
      ]
    },
    {
      "cell_type": "markdown",
      "metadata": {
        "id": "6Yeopp3CYLLp"
      },
      "source": [
        "Ao investigarmos as classes do dataset, percebemos uma grande diferença entre os casos `com_droga` e `com_controle`. Por que será que isso ocorre?\n",
        "\n",
        "Como vemos abaixo, os casos `com_droga` são cerca de 92% e os `com_controle` cerca de 8%."
      ]
    },
    {
      "cell_type": "code",
      "metadata": {
        "id": "WVJsFPFNUvLd"
      },
      "source": [
        "dados['tratamento'].value_counts(normalize=True)"
      ],
      "execution_count": null,
      "outputs": []
    },
    {
      "cell_type": "code",
      "metadata": {
        "id": "X4iUwDYWVZWj"
      },
      "source": [
        "dados['tratamento'].value_counts()"
      ],
      "execution_count": null,
      "outputs": []
    },
    {
      "cell_type": "code",
      "metadata": {
        "id": "GUsqhRh-Vc75"
      },
      "source": [
        "import matplotlib.pyplot as plt\n",
        "dados['tratamento'].value_counts().plot.bar()\n",
        "plt.title('Tratamento utilizado no experimento')\n",
        "plt.xlabel('Tratamentos')\n",
        "plt.ylabel('Quant de Experimentos')"
      ],
      "execution_count": null,
      "outputs": []
    },
    {
      "cell_type": "markdown",
      "metadata": {
        "id": "8lmZJGvahJyj"
      },
      "source": [
        "Vamos separar as ocorrências do valor `com_controle` em um novo dataframe."
      ]
    },
    {
      "cell_type": "code",
      "metadata": {
        "id": "7GKKCK8pVi9_"
      },
      "source": [
        "controle = dados.query('tratamento == \"com_controle\"')\n",
        "controle.head()"
      ],
      "execution_count": null,
      "outputs": []
    },
    {
      "cell_type": "markdown",
      "metadata": {
        "id": "ElucBfYBhVAN"
      },
      "source": [
        "Agora vamos observar o que mudou neste dataframe:"
      ]
    },
    {
      "cell_type": "code",
      "metadata": {
        "id": "TmDymCU0hbw2"
      },
      "source": [
        "controle['tempo'].unique()"
      ],
      "execution_count": null,
      "outputs": []
    },
    {
      "cell_type": "code",
      "metadata": {
        "id": "D2mhwmzLhhXz"
      },
      "source": [
        "controle['dose'].unique()"
      ],
      "execution_count": null,
      "outputs": []
    },
    {
      "cell_type": "code",
      "metadata": {
        "id": "eBK5hf7_glLc"
      },
      "source": [
        "controle['droga'].unique() "
      ],
      "execution_count": null,
      "outputs": []
    },
    {
      "cell_type": "markdown",
      "metadata": {
        "id": "JKgq0hBzhmiP"
      },
      "source": [
        "Opa! Aqui apareceu algo interessante. **Todas as culturas receberam a mesma droga\"**"
      ]
    },
    {
      "cell_type": "markdown",
      "metadata": {
        "id": "gyTcwH-4grro"
      },
      "source": [
        "Quando a classe `tratamento` contém o valor `com_controle` se trata do grupo controle, que provavelmente recebeu um placebo. Este grupo é utilizado para comparar os resultados e garantir que a ação da droga seja significante."
      ]
    },
    {
      "cell_type": "markdown",
      "metadata": {
        "id": "Sqb0kgahVszH"
      },
      "source": [
        "###Desafio 02: Plotar as 5 últimas linhas da tabela"
      ]
    },
    {
      "cell_type": "code",
      "metadata": {
        "id": "xoQc6pMLVzHL"
      },
      "source": [
        "dados.tail()"
      ],
      "execution_count": null,
      "outputs": []
    },
    {
      "cell_type": "markdown",
      "metadata": {
        "id": "vAVM8s4bV15Q"
      },
      "source": [
        "###Desafio 03: Proporção das classes tratamento."
      ]
    },
    {
      "cell_type": "code",
      "metadata": {
        "id": "uI6pMWf2V0gL"
      },
      "source": [
        "dados['tratamento'].value_counts(normalize=True)"
      ],
      "execution_count": null,
      "outputs": []
    },
    {
      "cell_type": "markdown",
      "metadata": {
        "id": "d_-JFdwlV-MN"
      },
      "source": [
        "###Desafio 04: Quantos tipos de drogas foram investigados."
      ]
    },
    {
      "cell_type": "markdown",
      "metadata": {
        "id": "7ALUebUsWZYU"
      },
      "source": [
        "Foram investigados 3289 tipos de drogas."
      ]
    },
    {
      "cell_type": "code",
      "metadata": {
        "id": "feUXSwxjV9fw"
      },
      "source": [
        "dados['droga'].describe()"
      ],
      "execution_count": null,
      "outputs": []
    },
    {
      "cell_type": "markdown",
      "metadata": {
        "id": "yYDcSlKxWhlx"
      },
      "source": [
        "###Desafio 05: Procurar na documentação o método query(pandas)."
      ]
    },
    {
      "cell_type": "code",
      "metadata": {
        "id": "SZPP3ppnWG69"
      },
      "source": [
        "t24 = dados.query('tempo == 24')\n",
        "t48 = dados.query('tempo == 48')\n",
        "t72 = dados.query('tempo == 72')"
      ],
      "execution_count": null,
      "outputs": []
    },
    {
      "cell_type": "code",
      "metadata": {
        "id": "YU2GT30iW74t"
      },
      "source": [
        "t24.shape"
      ],
      "execution_count": null,
      "outputs": []
    },
    {
      "cell_type": "code",
      "metadata": {
        "id": "GIHlPw6wW91u"
      },
      "source": [
        "t48.shape"
      ],
      "execution_count": null,
      "outputs": []
    },
    {
      "cell_type": "code",
      "metadata": {
        "id": "4NF6pLJNXKL8"
      },
      "source": [
        "t72.shape"
      ],
      "execution_count": null,
      "outputs": []
    },
    {
      "cell_type": "markdown",
      "metadata": {
        "id": "O7Do5EZAXNaq"
      },
      "source": [
        "###Desafio 06: Renomear as colunas tirando o hífen."
      ]
    },
    {
      "cell_type": "markdown",
      "metadata": {
        "id": "7ZTGtsJUbPpx"
      },
      "source": [
        "Com uma ajuda do [Guilherme Silveira](https://www.alura.com.br/artigos/manipulacao-de-strings-no-pandas-lower-replace-startswith-e-contains)"
      ]
    },
    {
      "cell_type": "code",
      "metadata": {
        "id": "jBzAEFJSXMFW"
      },
      "source": [
        "dados.columns"
      ],
      "execution_count": null,
      "outputs": []
    },
    {
      "cell_type": "code",
      "metadata": {
        "id": "EZXY4-uMbJHI"
      },
      "source": [
        "dados.columns = dados.columns.str.lower().str.replace('-', '')"
      ],
      "execution_count": null,
      "outputs": []
    },
    {
      "cell_type": "markdown",
      "metadata": {
        "id": "74qoDme5bfxp"
      },
      "source": [
        "Agora é possível fazer queries nas colunas dos genes:"
      ]
    },
    {
      "cell_type": "code",
      "metadata": {
        "id": "3ipJqJvPblQY"
      },
      "source": [
        "dados.query('g0 > 0')"
      ],
      "execution_count": null,
      "outputs": []
    },
    {
      "cell_type": "code",
      "metadata": {
        "id": "d6tdylPxc3pj"
      },
      "source": [
        "dados.query('g12 < 0')"
      ],
      "execution_count": null,
      "outputs": []
    },
    {
      "cell_type": "markdown",
      "metadata": {
        "id": "5gA4_X6CXtQL"
      },
      "source": [
        "###Desafio 07: Deixar os gráficos bonitões"
      ]
    },
    {
      "cell_type": "code",
      "metadata": {
        "id": "7BJgIUvTXyEk"
      },
      "source": [
        "dados['tempo'].value_counts().sort_index().plot.bar()\n",
        "plt.title('Tempo do experimento')\n",
        "plt.xlabel('Horas')\n",
        "plt.ylabel('Quant de experimentos')"
      ],
      "execution_count": null,
      "outputs": []
    },
    {
      "cell_type": "markdown",
      "metadata": {
        "id": "gompMjOSX5lk"
      },
      "source": [
        "###Desafio 08: Resumo do que você aprendeu com os dados"
      ]
    },
    {
      "cell_type": "markdown",
      "metadata": {
        "id": "Da8BMwJ8dp1m"
      },
      "source": [
        "Com estes dados eu aprendi que os experimentos em busca de novas drogas são feitos utilizando colonias de células e procurando alterações nas expressões gênicas.\n",
        "\n",
        "Também aprendi que estes experimentos precisam ser feitos com um grupo controle, que não recebe o tratamento e com o qual vão ser comparados os resultados.\n",
        "\n",
        "Além disso, aprendi que os experimentos pode  ter durações diferentes (24, 48 ou 72 horas) para que possamos saber o perídodo de exposição que produz as alterações nas expressões gênicas.\n",
        "\n",
        "\n",
        "Por fim, os dados geraram uma expectativa do que falta explorar e das inúmeras descobertas possíveis."
      ]
    },
    {
      "cell_type": "markdown",
      "metadata": {
        "id": "oMqr43UY4RIy"
      },
      "source": [
        "# Aula 02"
      ]
    },
    {
      "cell_type": "markdown",
      "metadata": {
        "id": "s4QZ8Xp6Xnv9"
      },
      "source": [
        "Desafio 01: Ordenar o gráfico countplot"
      ]
    },
    {
      "cell_type": "code",
      "metadata": {
        "id": "6Loq1EofX5dR"
      },
      "source": [
        "mapa = {'droga': 'composto'}\n",
        "dados.rename(columns=mapa, inplace=True)\n",
        "cod_compostos = dados['composto'].value_counts().index[0:5]"
      ],
      "execution_count": null,
      "outputs": []
    },
    {
      "cell_type": "code",
      "metadata": {
        "id": "wks-wvS44UJY"
      },
      "source": [
        "import seaborn as sns\n",
        "import matplotlib.pyplot as plt\n",
        "composto_ordenado = ['cacb2b860', '87d714366', '9f80f3f77', '8b87a7a83', '5628cb3ee']\n",
        "sns.set()\n",
        "plt.figure(figsize=(8, 6))\n",
        "ax = sns.countplot(x = 'composto', data=dados.query('composto in @cod_compostos'), order=composto_ordenado)\n",
        "ax.set_title('Top 5 compostos')\n",
        "plt.show()"
      ],
      "execution_count": null,
      "outputs": []
    },
    {
      "cell_type": "markdown",
      "metadata": {
        "id": "D6f7r3yWYLAi"
      },
      "source": [
        "Desafio 02: Melhorar a visualização alterando tamanho da fonte\n"
      ]
    },
    {
      "cell_type": "code",
      "metadata": {
        "id": "o79JTSH2YJAs"
      },
      "source": [
        "sns.set(font_scale=1.3, palette='flare', style='whitegrid')\n",
        "plt.figure(figsize=(9, 7))\n",
        "ax = sns.countplot(x = 'composto', data=dados.query('composto in @cod_compostos'), order=composto_ordenado)\n",
        "ax.set_title('Top 5 compostos')\n",
        "plt.show()"
      ],
      "execution_count": null,
      "outputs": []
    },
    {
      "cell_type": "markdown",
      "metadata": {
        "id": "Fa9lWKKqYS99"
      },
      "source": [
        "Desafio 03: Plotar os histogramas com seaborn\n"
      ]
    },
    {
      "cell_type": "code",
      "metadata": {
        "id": "2ksi8rJlYUTk"
      },
      "source": [
        "plt.figure(figsize=(9, 7))\n",
        "ax = sns.histplot(data = dados.loc[:,'g0':'g771'].describe().T['mean'])\n",
        "ax.set_title('Distribuição da média de expressão gênica')\n",
        "ax.set_xlabel('Média')\n",
        "ax.set_ylabel('Contagem')\n",
        "plt.show()"
      ],
      "execution_count": null,
      "outputs": []
    },
    {
      "cell_type": "code",
      "metadata": {
        "id": "E54Xj9yle47f"
      },
      "source": [
        "plt.figure(figsize=(9, 7))\n",
        "ax = sns.histplot(data = dados.loc[:,'g0':'g771'].describe().T['min'])\n",
        "ax.set_title('Distribuição dos mínimos de expressão gênica')\n",
        "ax.set_xlabel('Mínimo')\n",
        "ax.set_ylabel('Contagem')\n",
        "plt.show()"
      ],
      "execution_count": null,
      "outputs": []
    },
    {
      "cell_type": "code",
      "metadata": {
        "id": "rT2CZlyMfAXN"
      },
      "source": [
        "plt.figure(figsize=(9, 7))\n",
        "ax = sns.histplot(data = dados.loc[:,'g0':'g771'].describe().T['max'])\n",
        "ax.set_title('Distribuição dos máximos de expressão gênica')\n",
        "ax.set_xlabel('Máximo')\n",
        "ax.set_ylabel('Contagem')\n",
        "plt.show()"
      ],
      "execution_count": null,
      "outputs": []
    },
    {
      "cell_type": "markdown",
      "metadata": {
        "id": "_HETbhPGYU2N"
      },
      "source": [
        "Desafio 04: Estudar sobre as estatíticas retornadas no .describe()\n"
      ]
    },
    {
      "cell_type": "markdown",
      "metadata": {
        "id": "QwUTWk4ai3wn"
      },
      "source": [
        "* **count** - faz a contagem dos valores\n",
        "* **mean** - é a média aritmética dos valores\n",
        "* **std** - mostra o desvio padrão dos valores\n",
        "* **min e max** - são os valores minimo e máximo\n",
        "* **quartis** - valores que mostram como os dados estão distribuídos"
      ]
    },
    {
      "cell_type": "markdown",
      "metadata": {
        "id": "2iQyLEsMYXIB"
      },
      "source": [
        "Desafio 05: Refletir sobre a manipulação do tamanho das visualizações.\n"
      ]
    },
    {
      "cell_type": "code",
      "metadata": {
        "id": "XR6-JD8mYYtE"
      },
      "source": [
        "#Eu acho estranho passar uma tupla com valores proporcionais"
      ],
      "execution_count": null,
      "outputs": []
    },
    {
      "cell_type": "markdown",
      "metadata": {
        "id": "XVxOX5NSYZae"
      },
      "source": [
        "Desafio 06: Fazer outras análises com o boxplot e até com o histograma.\n"
      ]
    },
    {
      "cell_type": "code",
      "metadata": {
        "id": "jblbHxhTYbJ6"
      },
      "source": [
        "plt.figure(figsize=(9, 7))\n",
        "ax = sns.boxplot(data = dados.loc[:,'g0':'g7'])\n",
        "ax.set_title('Expressão gênica')\n",
        "ax.set_xlabel('Gene')\n",
        "ax.set_ylabel('Contagem')\n",
        "plt.show()"
      ],
      "execution_count": null,
      "outputs": []
    },
    {
      "cell_type": "markdown",
      "metadata": {
        "id": "Kopenk96Ybj-"
      },
      "source": [
        "Desafio 07: Resumo do que você aprendeu com os dados"
      ]
    },
    {
      "cell_type": "markdown",
      "metadata": {
        "id": "aFkVRHuilds0"
      },
      "source": [
        "Aprendi que a expressão gênica tem uma distribuição normal.\n",
        "\n",
        "Aprendi que apesar disso existem outliers, que podem ser interesses de pesquisa."
      ]
    }
  ]
}